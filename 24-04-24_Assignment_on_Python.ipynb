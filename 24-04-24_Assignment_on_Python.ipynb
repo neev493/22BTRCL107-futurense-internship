{
 "cells": [
  {
   "cell_type": "code",
   "execution_count": 10,
   "id": "4904b314",
   "metadata": {},
   "outputs": [
    {
     "name": "stdout",
     "output_type": "stream",
     "text": [
      "Please enter your marks here 59.5\n",
      "Your marks is less than 60, Hence grade: F\n"
     ]
    }
   ],
   "source": [
    "def calculate_grade(marks):\n",
    "    if marks > 100 or marks < 0:\n",
    "        print(\"Please enter the marks in the valid range!\")\n",
    "    else:\n",
    "        if marks > 90:\n",
    "            print(\"Your marks are above 90, Hence grade: A \")\n",
    "        elif marks >= 80:\n",
    "            print(\"Your marks are between 80 to 90, Hence grade: B \")\n",
    "        elif marks >= 70:\n",
    "            print(\"Your marks are between 70 to 79, Hence grade: C \")\n",
    "        elif marks >= 60:\n",
    "            print(\"Your marks are between 60 to 69, Hence grade: D \")\n",
    "        else:\n",
    "            print(\"Your marks are less than 60, Hence grade: F\")\n",
    "\n",
    "marks = float(input(\"Please enter your marks here: \"))\n",
    "calculate_grade(marks)"
   ]
  },
  {
   "cell_type": "code",
   "execution_count": 41,
   "id": "1529ff3d",
   "metadata": {},
   "outputs": [
    {
     "name": "stdout",
     "output_type": "stream",
     "text": [
      "Enter the total amount spent: $587\n",
      "Original Amount: 587.0\n",
      "Discount Applied: 117.4\n",
      "Final Amount after Discount: 469.6\n"
     ]
    }
   ],
   "source": [
    "try:\n",
    "    total_amount = float(input(\"Enter the total amount spent: $\"))\n",
    "    if total_amount < 0:\n",
    "        print(\"Invalid input. Amount cannot be negative.\")\n",
    "    else:\n",
    "        if total_amount > 500:\n",
    "            discount = 0.2\n",
    "        elif (total_amount>=200 and total_amount<=500):\n",
    "            discount = 0.1\n",
    "        else:\n",
    "            discount = 0\n",
    "        discount_amount = total_amount * discount\n",
    "        final_amount = total_amount - discount_amount\n",
    "        print(\"Original Amount:\", total_amount)\n",
    "        print(\"Discount Applied:\", discount_amount)\n",
    "        print(\"Final Amount after Discount:\",final_amount)\n",
    "        \n",
    "except ValueError:\n",
    "    print(\"Invalid input. Please enter a valid number.\")"
   ]
  },
  {
   "cell_type": "code",
   "execution_count": 45,
   "id": "a458ed27",
   "metadata": {},
   "outputs": [
    {
     "name": "stdout",
     "output_type": "stream",
     "text": [
      "Enter your birth month, e.g., January: september\n",
      "Enter your birth day: 4\n",
      "Your zodiac sign is: Virgo\n"
     ]
    }
   ],
   "source": [
    "def calculate_zodiac_sign():\n",
    "    try:\n",
    "        month = input(\"Enter your birth month, e.g., January: \").lower()\n",
    "        day = int(input(\"Enter your birth day: \"))\n",
    "\n",
    "        if not (1 <= day <= 31):\n",
    "            print(\"Invalid day. Please enter valid values.\")\n",
    "        else:\n",
    "            if month == \"january\":\n",
    "                zodiac_sign = 'Capricorn' if (day < 20) else 'Aquarius'\n",
    "            elif month == \"february\":\n",
    "                zodiac_sign = 'Aquarius' if (day < 19) else 'Pisces'\n",
    "            elif month == \"march\":\n",
    "                zodiac_sign = 'Pisces' if (day < 21) else 'Aries'\n",
    "            elif month == \"april\":\n",
    "                zodiac_sign = 'Aries' if (day < 20) else 'Taurus'\n",
    "            elif month == \"may\":\n",
    "                zodiac_sign = 'Taurus' if (day < 21) else 'Gemini'\n",
    "            elif month == \"june\":\n",
    "                zodiac_sign = 'Gemini' if (day < 21) else 'Cancer'\n",
    "            elif month == \"july\":\n",
    "                zodiac_sign = 'Cancer' if (day < 23) else 'Leo'\n",
    "            elif month == \"august\":\n",
    "                zodiac_sign = 'Leo' if (day < 23) else 'Virgo'\n",
    "            elif month == \"september\":\n",
    "                zodiac_sign = 'Virgo' if (day < 23) else 'Libra'\n",
    "            elif month == \"october\":\n",
    "                zodiac_sign = 'Libra' if (day < 23) else 'Scorpio'\n",
    "            elif month == \"november\":\n",
    "                zodiac_sign = 'Scorpio' if (day < 22) else 'Sagittarius'\n",
    "            elif month == \"december\":\n",
    "                zodiac_sign = 'Sagittarius' if (day < 22) else 'Capricorn'\n",
    "            else:\n",
    "                zodiac_sign = None\n",
    "            print(\"Your zodiac sign is:\", zodiac_sign)\n",
    "    except ValueError:\n",
    "        print(\"Invalid input. Please enter numeric values for the day.\")\n",
    "\n",
    "calculate_zodiac_sign()"
   ]
  },
  {
   "cell_type": "code",
   "execution_count": 5,
   "id": "12710632",
   "metadata": {},
   "outputs": [
    {
     "name": "stdout",
     "output_type": "stream",
     "text": [
      "Enter your password:Hello@1234\n",
      "Password is valid.\n"
     ]
    }
   ],
   "source": [
    "alphabets = ['a','b','c','d','e','f','g','h','i','j','k','l','m','n','o','p','q','r','s','t','u','v','w','x','y','z']\n",
    "num = ['0','1','2','3','4','5','6','7','8','9']\n",
    "symbol = ['$','#','@']\n",
    "\n",
    "password = input(\"Enter your password:\")\n",
    "\n",
    "has_lowercase = False\n",
    "has_uppercase = False\n",
    "has_number = False\n",
    "has_symbol = False\n",
    "\n",
    "for char in password:\n",
    "    if char in alphabets:\n",
    "        has_lowercase = True\n",
    "    elif char.isupper()==True:\n",
    "        has_uppercase = True\n",
    "    elif char in num:\n",
    "        has_number = True\n",
    "    elif char in symbol:\n",
    "        has_symbol = True\n",
    "        \n",
    "if len(password) < 6 or len(password) > 16:\n",
    "    print(\"Your password is invalid!\\nPassword length should be between 6 and 16 characters.\")\n",
    "elif not (has_lowercase and has_uppercase):\n",
    "    print(\"Your password is invalid!\\nPassword must contain at least one lowercase letter and one uppercase letter.\")\n",
    "elif not has_number:\n",
    "    print(\"Your password is invalid!\\nPassword must contain at least one digit.\")\n",
    "elif not has_symbol:\n",
    "    print(\"Your password is invalid!\\nPassword must contain at least one of the following characters: $, #, @.\")\n",
    "else:\n",
    "    print(\"Password is valid.\")"
   ]
  },
  {
   "cell_type": "code",
   "execution_count": 6,
   "id": "efefcd46",
   "metadata": {},
   "outputs": [
    {
     "name": "stdout",
     "output_type": "stream",
     "text": [
      "I have selected a number between 1  and 100\n",
      "Try to guess it!\n",
      "Enter your guess: 1\n",
      "Too low. Try again!\n",
      "Enter your guess: 2\n",
      "Too low. Try again!\n",
      "Enter your guess: 1\n",
      "Too low. Try again!\n",
      "Enter your guess: 88\n",
      "Too high. Try again!\n",
      "Enter your guess: 55\n",
      "Too low. Try again!\n",
      "Enter your guess: 77\n",
      "Too low. Try again!\n",
      "Enter your guess: 76\n",
      "Too low. Try again!\n",
      "Enter your guess: 84\n",
      "Congratulations! You guessed the correct number.\n"
     ]
    }
   ],
   "source": [
    "import random\n",
    "min_number = 1\n",
    "max_number = 100\n",
    "target_number = random.randint(min_number, max_number)\n",
    "\n",
    "print(\"I have selected a number between\",min_number,\" and\",max_number)\n",
    "print(\"Try to guess it!\")\n",
    "\n",
    "while True:\n",
    "    guess = int(input(\"Enter your guess: \"))\n",
    "    if guess == target_number:\n",
    "        print(\"Congratulations! You guessed the correct number.\")\n",
    "        break\n",
    "    elif guess < target_number:\n",
    "        print(\"Too low. Try again!\")\n",
    "    else:\n",
    "        print(\"Too high. Try again!\")"
   ]
  },
  {
   "cell_type": "code",
   "execution_count": 19,
   "id": "5537f682",
   "metadata": {},
   "outputs": [
    {
     "name": "stdout",
     "output_type": "stream",
     "text": [
      "Enter the start number of the range: 1\n",
      "Enter the end number of the range: 60\n",
      "Prime numbers in the range from 1 to 60 are:\n",
      "2\n",
      "3\n",
      "5\n",
      "7\n",
      "11\n",
      "13\n",
      "17\n",
      "19\n",
      "23\n",
      "29\n",
      "31\n",
      "37\n",
      "41\n",
      "43\n",
      "47\n",
      "53\n",
      "59\n"
     ]
    }
   ],
   "source": [
    "start = int(input(\"Enter the start number of the range: \"))\n",
    "end = int(input(\"Enter the end number of the range: \"))\n",
    "\n",
    "def is_prime(num):\n",
    "    if num <= 1:\n",
    "        return False\n",
    "    for i in range(2, int(num**0.5) + 1):\n",
    "        if num % i == 0:\n",
    "            return False\n",
    "    return True\n",
    "\n",
    "print(\"Prime numbers in the range from\", start, \"to\", end, \"are:\")\n",
    "for num in range(start, end + 1):\n",
    "    if not is_prime(num):\n",
    "        continue\n",
    "    print(num)"
   ]
  },
  {
   "cell_type": "code",
   "execution_count": 8,
   "id": "db12a61e",
   "metadata": {},
   "outputs": [
    {
     "name": "stdout",
     "output_type": "stream",
     "text": [
      "Encountered a negative number. Stopping because of -3\n",
      "Sum of numbers up to the negative number: 23\n"
     ]
    }
   ],
   "source": [
    "numbers = [10, 5, 8, -3, 12, 7, -5, 6]\n",
    "total_sum = 0\n",
    "for num in numbers:\n",
    "    if num < 0:\n",
    "        print(\"Encountered a negative number. Stopping because of\", num)\n",
    "        break\n",
    "    total_sum += num\n",
    "print(\"Sum of numbers up to the negative number:\", total_sum)"
   ]
  },
  {
   "cell_type": "code",
   "execution_count": 64,
   "id": "d3ecba57",
   "metadata": {},
   "outputs": [
    {
     "name": "stdout",
     "output_type": "stream",
     "text": [
      "Enter 1 for Pattern 1 or 2 for Pattern 2: 2\n",
      "Enter the number of rows for Pattern 2: 6\n",
      "1 \n",
      "2 3 \n",
      "4 5 6 \n",
      "7 8 9 10 \n",
      "11 12 13 14 15 \n",
      "16 17 18 19 20 21 \n"
     ]
    }
   ],
   "source": [
    "def pattern_one(width):\n",
    "    for i in range(1, width + 1):\n",
    "        for j in range(1, i + 1):\n",
    "            print(j, end=\" \")\n",
    "        print()\n",
    "    for i in range(width - 1, 0, -1):\n",
    "        for j in range(1, i + 1):\n",
    "            print(j, end=\" \")\n",
    "        print()\n",
    "\n",
    "def pattern_two(row):\n",
    "    num = 1\n",
    "    for i in range(1, row + 1):\n",
    "        for j in range(1, i + 1):\n",
    "            print(num, end=\" \")\n",
    "            num += 1\n",
    "        print()\n",
    "\n",
    "choice = int(input(\"Enter 1 for Pattern 1 or 2 for Pattern 2: \"))\n",
    "if choice == 1:\n",
    "    width = int(input(\"Enter the number of rows for Pattern 1: \"))\n",
    "    pattern_one(width)\n",
    "elif choice == 2:\n",
    "    row = int(input(\"Enter the number of rows for Pattern 2: \"))\n",
    "    pattern_two(row)\n",
    "else:\n",
    "    print(\"Invalid choice. Please enter 1 or 2.\")"
   ]
  },
  {
   "cell_type": "code",
   "execution_count": 35,
   "id": "f10979c1",
   "metadata": {},
   "outputs": [
    {
     "name": "stdout",
     "output_type": "stream",
     "text": [
      "Enter the start number: 1\n",
      "Enter the end number: 20\n",
      "Enter the divisor: 3\n",
      "Numbers between 1 and 20 that are divisible by 3 are:\n",
      "3\n",
      "6\n",
      "9\n",
      "12\n",
      "15\n",
      "18\n"
     ]
    }
   ],
   "source": [
    "num1 = int(input(\"Enter the start number: \"))\n",
    "num2 = int(input(\"Enter the end number: \"))\n",
    "num3 = int(input(\"Enter the divisor: \"))\n",
    "print(\"Numbers between\", num1, \"and\", num2, \"that are divisible by\", num3, \"are:\")\n",
    "for num in range(num1, num2 + 1):\n",
    "    if num % num3 == 0:\n",
    "        print(num)"
   ]
  },
  {
   "cell_type": "code",
   "execution_count": 36,
   "id": "01cd5ad8",
   "metadata": {},
   "outputs": [
    {
     "name": "stdout",
     "output_type": "stream",
     "text": [
      "Enter a word here: programming\n",
      "gnimmargorp\n"
     ]
    }
   ],
   "source": [
    "input_string = input(\"Enter a word here: \")\n",
    "def reverse_string(s):\n",
    "    if len(s) <= 1:\n",
    "        return s\n",
    "    return reverse_string(s[1:]) + s[0]\n",
    "print(reverse_string(input_string))"
   ]
  },
  {
   "cell_type": "code",
   "execution_count": 47,
   "id": "6adac525",
   "metadata": {},
   "outputs": [
    {
     "name": "stdout",
     "output_type": "stream",
     "text": [
      "Enter a sentence here Hello World this is python programming\n",
      "programming\n"
     ]
    }
   ],
   "source": [
    "def longest_word(sentence):\n",
    "    words = sentence.split()\n",
    "    longest = \"\"\n",
    "    max_length = 0\n",
    "    for word in words:\n",
    "        if len(word) > max_length:\n",
    "            longest = word\n",
    "            max_length = len(word)\n",
    "    return longest\n",
    "\n",
    "sentence = input(\"Enter a sentence here \")\n",
    "print(longest_word(sentence))"
   ]
  },
  {
   "cell_type": "code",
   "execution_count": 50,
   "id": "13c08caa",
   "metadata": {},
   "outputs": [
    {
     "name": "stdout",
     "output_type": "stream",
     "text": [
      "[('Bob', 95), ('Dave', 95), ('Alice', 88), ('Charlie', 88)]\n"
     ]
    }
   ],
   "source": [
    "def custom_sort(data):\n",
    "    sorted_data = sorted(data, key=lambda x: (-x[1], x[0]))\n",
    "    return sorted_data\n",
    "\n",
    "data = [('Alice', 88), ('Bob', 95), ('Charlie', 88), ('Dave', 95)]\n",
    "sort_data = custom_sort(data)\n",
    "\n",
    "print(sort_data)"
   ]
  },
  {
   "cell_type": "code",
   "execution_count": 31,
   "id": "14ae125c",
   "metadata": {},
   "outputs": [
    {
     "name": "stdout",
     "output_type": "stream",
     "text": [
      "Enter a sentence to capitalize every alternate letter: hello world\n",
      "Transformed string: HeLlO-wOrLd\n"
     ]
    }
   ],
   "source": [
    "def transform_string(input_string):\n",
    "    final = \"\"\n",
    "    transform_flag = True\n",
    "    for char in new_sentence:\n",
    "        if char.isalpha():\n",
    "            if transform_flag:\n",
    "                final += char.upper()\n",
    "            else:\n",
    "                final += char.lower()\n",
    "            transform_flag = not transform_flag\n",
    "        elif char == ' ':\n",
    "            final += '-'\n",
    "    return final\n",
    "\n",
    "new_sentence = input(\"Enter a sentence to capitalize every alternate letter: \")\n",
    "print(\"Transformed string:\", transform_string(input_string))"
   ]
  },
  {
   "cell_type": "code",
   "execution_count": 53,
   "id": "c840699f",
   "metadata": {},
   "outputs": [
    {
     "name": "stdout",
     "output_type": "stream",
     "text": [
      "Enter filenames separated by commas: hello.jpg, world.jpg, filename.png\n",
      "Enter the new name template: mountains\n",
      "Renamed files: ['1m1o1u1n1t1a1i1n1s1', '2m2o2u2n2t2a2i2n2s2', '3m3o3u3n3t3a3i3n3s3']\n"
     ]
    }
   ],
   "source": [
    "def simulate_file_renaming(filenames, template):\n",
    "    renamed_files = []\n",
    "    placeholder_length = template.count('#')\n",
    "    for i in range(len(filenames)):\n",
    "        number_str = str(i + 1).zfill(placeholder_length)\n",
    "        new_filename = template.replace('#'*placeholder_length, number_str)\n",
    "        renamed_files.append(new_filename)\n",
    "    return renamed_files\n",
    "\n",
    "filenames = input(\"Enter filenames separated by commas: \").split(',')\n",
    "template = input(\"Enter the new name template: \").strip()\n",
    "print(\"Renamed files:\", simulate_file_renaming(filenames, template))"
   ]
  },
  {
   "cell_type": "code",
   "execution_count": 55,
   "id": "7992be40",
   "metadata": {},
   "outputs": [
    {
     "name": "stdout",
     "output_type": "stream",
     "text": [
      "Enter a list of words for anagram grouping separated by spaces: hello holel olleh tea ate eat walk talk tale ale fit\n",
      "The anagrams are: [['hello', 'holel', 'olleh'], ['tea', 'ate', 'eat'], ['walk'], ['talk'], ['tale'], ['ale'], ['fit']]\n"
     ]
    }
   ],
   "source": [
    "def group_anagrams(words):\n",
    "    anagrams = {}\n",
    "    for word in words:\n",
    "        sorted_word=''.join(sorted(word))\n",
    "        if sorted_word in anagrams:\n",
    "            anagrams[sorted_word].append(word)\n",
    "        else:\n",
    "            anagrams[sorted_word]=[word]\n",
    "    return list(anagrams.values())\n",
    "\n",
    "words = input(\"Enter a list of words for anagram grouping separated by spaces: \").split()\n",
    "print(\"The anagrams are:\", group_anagrams(words))"
   ]
  },
  {
   "cell_type": "code",
   "execution_count": 36,
   "id": "6d416e06",
   "metadata": {},
   "outputs": [
    {
     "name": "stdout",
     "output_type": "stream",
     "text": [
      "Enter a list of integers for the subarray sum separated by spaces: 5 4 3 6 4 2 6 4 22 11\n",
      "The maximum subarray sum: 67\n"
     ]
    }
   ],
   "source": [
    "def max_subarray_sum(arr):\n",
    "    if not arr:\n",
    "        return 0\n",
    "    max_sum = current_sum = arr[0]\n",
    "    for num in arr[1:]:\n",
    "        current_sum = max(num, current_sum + num)\n",
    "        max_sum = max(max_sum, current_sum)\n",
    "    return max_sum\n",
    "\n",
    "arr = list(map(int, input(\"Enter a list of integers for the subarray sum separated by spaces: \").split()))\n",
    "print(\"The maximum subarray sum:\", max_subarray_sum(arr))"
   ]
  },
  {
   "cell_type": "code",
   "execution_count": 63,
   "id": "2dac05d1",
   "metadata": {},
   "outputs": [
    {
     "name": "stdout",
     "output_type": "stream",
     "text": [
      "Index of target: 2\n"
     ]
    }
   ],
   "source": [
    "def sequential_search(arr, target):\n",
    "    for i in range(len(arr)):\n",
    "        if arr[i] == target:\n",
    "            return i\n",
    "    return -1\n",
    "\n",
    "arr = [5, 3, 7, 1, 9]\n",
    "target = 7\n",
    "print(\"Index of target:\", sequential_search(arr, target))"
   ]
  },
  {
   "cell_type": "code",
   "execution_count": 39,
   "id": "d026c12d",
   "metadata": {},
   "outputs": [
    {
     "name": "stdout",
     "output_type": "stream",
     "text": [
      "Enter a list of words to be encoded here (separated by commas): hello, world\n",
      "Encoded Output: 5#hello6# world\n",
      "Decoded Output: ['hello', ' world']\n"
     ]
    }
   ],
   "source": [
    "def encode(strings):\n",
    "    encoded_string = \"\"\n",
    "    for string in strings:\n",
    "        encoded_string += str(len(string)) + \"#\" + string\n",
    "    return encoded_string\n",
    "\n",
    "def decode(encoded_string):\n",
    "    decoded_strings = []\n",
    "    i = 0\n",
    "    while i < len(encoded_string):\n",
    "        length = \"\"\n",
    "        while encoded_string[i] != '#':\n",
    "            length += encoded_string[i]\n",
    "            i += 1\n",
    "        i += 1\n",
    "        length = int(length)\n",
    "        decoded_strings.append(encoded_string[i:i+length])\n",
    "        i += length\n",
    "    return decoded_strings\n",
    "\n",
    "strings = input(\"Enter a list of words to be encoded here (separated by commas): \").split(',')\n",
    "encoded_output = encode(strings)\n",
    "print(\"Encoded Output:\", encoded_output)\n",
    "decoded_output = decode(encoded_output)\n",
    "print(\"Decoded Output:\", decoded_output)"
   ]
  }
 ],
 "metadata": {
  "kernelspec": {
   "display_name": "Python 3 (ipykernel)",
   "language": "python",
   "name": "python3"
  },
  "language_info": {
   "codemirror_mode": {
    "name": "ipython",
    "version": 3
   },
   "file_extension": ".py",
   "mimetype": "text/x-python",
   "name": "python",
   "nbconvert_exporter": "python",
   "pygments_lexer": "ipython3",
   "version": "3.9.13"
  }
 },
 "nbformat": 4,
 "nbformat_minor": 5
}
